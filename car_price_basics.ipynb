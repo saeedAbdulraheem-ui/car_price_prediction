{
 "cells": [
  {
   "cell_type": "code",
   "execution_count": 1,
   "metadata": {},
   "outputs": [
    {
     "name": "stderr",
     "output_type": "stream",
     "text": [
      "2024-05-10 19:52:13.204093: W tensorflow/compiler/tf2tensorrt/utils/py_utils.cc:38] TF-TRT Warning: Could not find TensorRT\n",
      "/home/imagry/anaconda3/lib/python3.9/site-packages/IPython/core/interactiveshell.py:3444: FutureWarning: In a future version of pandas all arguments of read_csv except for the argument 'filepath_or_buffer' will be keyword-only\n",
      "  exec(code_obj, self.user_global_ns, self.user_ns)\n",
      "2024-05-10 19:52:15.318296: W tensorflow/core/common_runtime/gpu/gpu_device.cc:2251] Cannot dlopen some GPU libraries. Please make sure the missing libraries mentioned above are installed properly if you would like to use GPU. Follow the guide at https://www.tensorflow.org/install/gpu for how to download and setup the required libraries for your platform.\n",
      "Skipping registering GPU devices...\n"
     ]
    }
   ],
   "source": [
    "import os\n",
    "os.environ['TF_CPP_MIN_LOG_LEVEL'] = '1'\n",
    "\n",
    "import tensorflow as tf\n",
    "import pandas as pd\n",
    "import seaborn as sns\n",
    "import numpy as np\n",
    "from tensorflow.keras.layers import Normalization, Dense, InputLayer\n",
    "from tensorflow.keras.losses import MeanSquaredError, Huber, MeanAbsoluteError\n",
    "from tensorflow.keras.metrics import RootMeanSquaredError\n",
    "from tensorflow.keras.optimizers import Adam\n",
    "import matplotlib.pyplot as plt\n",
    "\n",
    "data = pd.read_csv('train.csv', \",\")\n",
    "data.head()\n",
    "\n",
    "# sns.pairplot(data[['years', 'km', 'rating', 'condition', 'economy', 'top speed', 'hp', 'torque', 'current price']], diag_kind='kde')\n",
    "\n",
    "# prep data\n",
    "tensor_data = tf.constant(data)\n",
    "tensor_data = tf.cast(tensor_data, tf.float32)\n",
    "tensor_data = tf.random.shuffle(tensor_data)\n",
    "\n",
    "X, Y = tensor_data[:, 3:-1], tensor_data[:, -1]\n",
    "Y = tf.expand_dims(Y, axis=-1)\n"
   ]
  },
  {
   "cell_type": "code",
   "execution_count": 2,
   "metadata": {},
   "outputs": [
    {
     "data": {
      "text/plain": [
       "<tf.Tensor: shape=(1000, 8), dtype=float32, numpy=\n",
       "array([[ 0.25549713, -0.5147744 ,  1.4350005 , ..., -0.5131564 ,\n",
       "        -0.02662536, -1.1603376 ],\n",
       "       [ 0.25549713,  0.77916265,  1.4350005 , ...,  0.62799746,\n",
       "         0.9974312 , -1.3503778 ],\n",
       "       [-0.32650068, -0.58019197, -0.7046622 , ..., -0.3056739 ,\n",
       "         0.8023728 ,  0.7875741 ],\n",
       "       ...,\n",
       "       [-0.9084985 , -1.0085983 ,  0.00855871, ...,  1.1467037 ,\n",
       "         0.21719764,  0.2649637 ],\n",
       "       [ 0.25549713, -1.3736122 ,  1.4350005 , ...,  0.31677365,\n",
       "         0.65607905, -0.06760663],\n",
       "       [ 0.8374949 ,  1.7033151 ,  0.72177964, ...,  1.4060569 ,\n",
       "         1.6801356 ,  1.6902649 ]], dtype=float32)>"
      ]
     },
     "execution_count": 2,
     "metadata": {},
     "output_type": "execute_result"
    }
   ],
   "source": [
    "normalizer = Normalization()\n",
    "normalizer.adapt(X)\n",
    "normalizer(X)"
   ]
  },
  {
   "cell_type": "code",
   "execution_count": 45,
   "metadata": {},
   "outputs": [
    {
     "data": {
      "text/html": [
       "<pre style=\"white-space:pre;overflow-x:auto;line-height:normal;font-family:Menlo,'DejaVu Sans Mono',consolas,'Courier New',monospace\"><span style=\"font-weight: bold\">Model: \"sequential_2\"</span>\n",
       "</pre>\n"
      ],
      "text/plain": [
       "\u001b[1mModel: \"sequential_2\"\u001b[0m\n"
      ]
     },
     "metadata": {},
     "output_type": "display_data"
    },
    {
     "data": {
      "text/html": [
       "<pre style=\"white-space:pre;overflow-x:auto;line-height:normal;font-family:Menlo,'DejaVu Sans Mono',consolas,'Courier New',monospace\">┏━━━━━━━━━━━━━━━━━━━━━━━━━━━━━━━━━┳━━━━━━━━━━━━━━━━━━━━━━━━┳━━━━━━━━━━━━━━━┓\n",
       "┃<span style=\"font-weight: bold\"> Layer (type)                    </span>┃<span style=\"font-weight: bold\"> Output Shape           </span>┃<span style=\"font-weight: bold\">       Param # </span>┃\n",
       "┡━━━━━━━━━━━━━━━━━━━━━━━━━━━━━━━━━╇━━━━━━━━━━━━━━━━━━━━━━━━╇━━━━━━━━━━━━━━━┩\n",
       "│ normalization_1 (<span style=\"color: #0087ff; text-decoration-color: #0087ff\">Normalization</span>) │ (<span style=\"color: #00d7ff; text-decoration-color: #00d7ff\">None</span>, <span style=\"color: #00af00; text-decoration-color: #00af00\">8</span>)              │            <span style=\"color: #00af00; text-decoration-color: #00af00\">17</span> │\n",
       "├─────────────────────────────────┼────────────────────────┼───────────────┤\n",
       "│ dense_5 (<span style=\"color: #0087ff; text-decoration-color: #0087ff\">Dense</span>)                 │ (<span style=\"color: #00d7ff; text-decoration-color: #00d7ff\">None</span>, <span style=\"color: #00af00; text-decoration-color: #00af00\">128</span>)            │         <span style=\"color: #00af00; text-decoration-color: #00af00\">1,152</span> │\n",
       "├─────────────────────────────────┼────────────────────────┼───────────────┤\n",
       "│ dense_6 (<span style=\"color: #0087ff; text-decoration-color: #0087ff\">Dense</span>)                 │ (<span style=\"color: #00d7ff; text-decoration-color: #00d7ff\">None</span>, <span style=\"color: #00af00; text-decoration-color: #00af00\">128</span>)            │        <span style=\"color: #00af00; text-decoration-color: #00af00\">16,512</span> │\n",
       "├─────────────────────────────────┼────────────────────────┼───────────────┤\n",
       "│ dense_7 (<span style=\"color: #0087ff; text-decoration-color: #0087ff\">Dense</span>)                 │ (<span style=\"color: #00d7ff; text-decoration-color: #00d7ff\">None</span>, <span style=\"color: #00af00; text-decoration-color: #00af00\">128</span>)            │        <span style=\"color: #00af00; text-decoration-color: #00af00\">16,512</span> │\n",
       "├─────────────────────────────────┼────────────────────────┼───────────────┤\n",
       "│ dense_8 (<span style=\"color: #0087ff; text-decoration-color: #0087ff\">Dense</span>)                 │ (<span style=\"color: #00d7ff; text-decoration-color: #00d7ff\">None</span>, <span style=\"color: #00af00; text-decoration-color: #00af00\">1</span>)              │           <span style=\"color: #00af00; text-decoration-color: #00af00\">129</span> │\n",
       "└─────────────────────────────────┴────────────────────────┴───────────────┘\n",
       "</pre>\n"
      ],
      "text/plain": [
       "┏━━━━━━━━━━━━━━━━━━━━━━━━━━━━━━━━━┳━━━━━━━━━━━━━━━━━━━━━━━━┳━━━━━━━━━━━━━━━┓\n",
       "┃\u001b[1m \u001b[0m\u001b[1mLayer (type)                   \u001b[0m\u001b[1m \u001b[0m┃\u001b[1m \u001b[0m\u001b[1mOutput Shape          \u001b[0m\u001b[1m \u001b[0m┃\u001b[1m \u001b[0m\u001b[1m      Param #\u001b[0m\u001b[1m \u001b[0m┃\n",
       "┡━━━━━━━━━━━━━━━━━━━━━━━━━━━━━━━━━╇━━━━━━━━━━━━━━━━━━━━━━━━╇━━━━━━━━━━━━━━━┩\n",
       "│ normalization_1 (\u001b[38;5;33mNormalization\u001b[0m) │ (\u001b[38;5;45mNone\u001b[0m, \u001b[38;5;34m8\u001b[0m)              │            \u001b[38;5;34m17\u001b[0m │\n",
       "├─────────────────────────────────┼────────────────────────┼───────────────┤\n",
       "│ dense_5 (\u001b[38;5;33mDense\u001b[0m)                 │ (\u001b[38;5;45mNone\u001b[0m, \u001b[38;5;34m128\u001b[0m)            │         \u001b[38;5;34m1,152\u001b[0m │\n",
       "├─────────────────────────────────┼────────────────────────┼───────────────┤\n",
       "│ dense_6 (\u001b[38;5;33mDense\u001b[0m)                 │ (\u001b[38;5;45mNone\u001b[0m, \u001b[38;5;34m128\u001b[0m)            │        \u001b[38;5;34m16,512\u001b[0m │\n",
       "├─────────────────────────────────┼────────────────────────┼───────────────┤\n",
       "│ dense_7 (\u001b[38;5;33mDense\u001b[0m)                 │ (\u001b[38;5;45mNone\u001b[0m, \u001b[38;5;34m128\u001b[0m)            │        \u001b[38;5;34m16,512\u001b[0m │\n",
       "├─────────────────────────────────┼────────────────────────┼───────────────┤\n",
       "│ dense_8 (\u001b[38;5;33mDense\u001b[0m)                 │ (\u001b[38;5;45mNone\u001b[0m, \u001b[38;5;34m1\u001b[0m)              │           \u001b[38;5;34m129\u001b[0m │\n",
       "└─────────────────────────────────┴────────────────────────┴───────────────┘\n"
      ]
     },
     "metadata": {},
     "output_type": "display_data"
    },
    {
     "data": {
      "text/html": [
       "<pre style=\"white-space:pre;overflow-x:auto;line-height:normal;font-family:Menlo,'DejaVu Sans Mono',consolas,'Courier New',monospace\"><span style=\"font-weight: bold\"> Total params: </span><span style=\"color: #00af00; text-decoration-color: #00af00\">34,322</span> (134.07 KB)\n",
       "</pre>\n"
      ],
      "text/plain": [
       "\u001b[1m Total params: \u001b[0m\u001b[38;5;34m34,322\u001b[0m (134.07 KB)\n"
      ]
     },
     "metadata": {},
     "output_type": "display_data"
    },
    {
     "data": {
      "text/html": [
       "<pre style=\"white-space:pre;overflow-x:auto;line-height:normal;font-family:Menlo,'DejaVu Sans Mono',consolas,'Courier New',monospace\"><span style=\"font-weight: bold\"> Trainable params: </span><span style=\"color: #00af00; text-decoration-color: #00af00\">34,305</span> (134.00 KB)\n",
       "</pre>\n"
      ],
      "text/plain": [
       "\u001b[1m Trainable params: \u001b[0m\u001b[38;5;34m34,305\u001b[0m (134.00 KB)\n"
      ]
     },
     "metadata": {},
     "output_type": "display_data"
    },
    {
     "data": {
      "text/html": [
       "<pre style=\"white-space:pre;overflow-x:auto;line-height:normal;font-family:Menlo,'DejaVu Sans Mono',consolas,'Courier New',monospace\"><span style=\"font-weight: bold\"> Non-trainable params: </span><span style=\"color: #00af00; text-decoration-color: #00af00\">17</span> (72.00 B)\n",
       "</pre>\n"
      ],
      "text/plain": [
       "\u001b[1m Non-trainable params: \u001b[0m\u001b[38;5;34m17\u001b[0m (72.00 B)\n"
      ]
     },
     "metadata": {},
     "output_type": "display_data"
    }
   ],
   "source": [
    "model=tf.keras.Sequential([\n",
    "    InputLayer(shape=(8,)),\n",
    "    normalizer,\n",
    "    Dense(128, activation='relu'),\n",
    "    Dense(128, activation='relu'),\n",
    "    Dense(128, activation='relu'),\n",
    "    Dense(1),\n",
    "])\n",
    "model.summary()\n"
   ]
  },
  {
   "cell_type": "code",
   "execution_count": 48,
   "metadata": {},
   "outputs": [
    {
     "name": "stdout",
     "output_type": "stream",
     "text": [
      "\u001b[1m32/32\u001b[0m \u001b[32m━━━━━━━━━━━━━━━━━━━━\u001b[0m\u001b[37m\u001b[0m \u001b[1m0s\u001b[0m 553us/step - loss: 310734.2188 - root_mean_squared_error: 334580.4062\n"
     ]
    },
    {
     "data": {
      "text/plain": [
       "[308520.125, 333261.5]"
      ]
     },
     "execution_count": 48,
     "metadata": {},
     "output_type": "execute_result"
    }
   ],
   "source": [
    "tf.keras.utils.plot_model(model, to_file='model.png', show_shapes=True, show_layer_names=True)\n"
   ]
  },
  {
   "cell_type": "code",
   "execution_count": 49,
   "metadata": {},
   "outputs": [
    {
     "name": "stdout",
     "output_type": "stream",
     "text": [
      "\u001b[1m32/32\u001b[0m \u001b[32m━━━━━━━━━━━━━━━━━━━━\u001b[0m\u001b[37m\u001b[0m \u001b[1m0s\u001b[0m 689us/step - loss: 310734.2188 - root_mean_squared_error: 334580.4062\n"
     ]
    },
    {
     "data": {
      "text/plain": [
       "[308520.125, 333261.5]"
      ]
     },
     "execution_count": 49,
     "metadata": {},
     "output_type": "execute_result"
    }
   ],
   "source": [
    "model.compile(optimizer=Adam(learning_rate=0.1),loss = MeanAbsoluteError(), metrics=[RootMeanSquaredError()])\n",
    "model.evaluate(X, Y)"
   ]
  },
  {
   "cell_type": "code",
   "execution_count": 7,
   "metadata": {},
   "outputs": [],
   "source": [
    "TRAIN_RATIO = 0.8\n",
    "VAL_RATIO = 0.1\n",
    "TEST_RATIO = 0.1\n",
    "DATASET_SIZE = len(X)"
   ]
  },
  {
   "cell_type": "code",
   "execution_count": 56,
   "metadata": {},
   "outputs": [
    {
     "name": "stdout",
     "output_type": "stream",
     "text": [
      "(800, 8) (800, 1)\n"
     ]
    }
   ],
   "source": [
    "# training data\n",
    "X_train = X[:int(DATASET_SIZE * TRAIN_RATIO)]\n",
    "Y_train = Y[:int(DATASET_SIZE * TRAIN_RATIO)]\n",
    "print(X_train.shape, Y_train.shape)"
   ]
  },
  {
   "cell_type": "code",
   "execution_count": 72,
   "metadata": {},
   "outputs": [],
   "source": [
    "train_dataset = tf.data.Dataset.from_tensor_slices((X_train, Y_train))\n",
    "train_dataset = train_dataset.shuffle(buffer_size=8, reshuffle_each_iteration=True).batch(32).prefetch(tf.data.AUTOTUNE)"
   ]
  },
  {
   "cell_type": "code",
   "execution_count": 59,
   "metadata": {},
   "outputs": [
    {
     "name": "stdout",
     "output_type": "stream",
     "text": [
      "tf.Tensor(\n",
      "[[3.00000e+00 5.24980e+04 1.00000e+00 5.00000e+00 1.20000e+01 1.37000e+02\n",
      "  7.90000e+01 9.50000e+01]\n",
      " [3.00000e+00 6.52930e+04 4.00000e+00 4.00000e+00 1.00000e+01 1.93000e+02\n",
      "  1.05000e+02 6.90000e+01]\n",
      " [7.00000e+00 1.42292e+05 4.00000e+00 1.00000e+00 1.20000e+01 1.35000e+02\n",
      "  7.50000e+01 1.09000e+02]\n",
      " [7.00000e+00 6.14780e+04 4.00000e+00 5.00000e+00 8.00000e+00 1.61000e+02\n",
      "  5.50000e+01 7.50000e+01]\n",
      " [4.00000e+00 1.30980e+05 1.00000e+00 3.00000e+00 1.20000e+01 2.00000e+02\n",
      "  5.60000e+01 9.30000e+01]\n",
      " [5.00000e+00 9.70130e+04 3.00000e+00 3.00000e+00 1.50000e+01 1.80000e+02\n",
      "  9.90000e+01 1.00000e+02]\n",
      " [4.00000e+00 7.94290e+04 3.00000e+00 6.00000e+00 1.40000e+01 1.70000e+02\n",
      "  7.60000e+01 9.20000e+01]\n",
      " [2.00000e+00 6.57060e+04 4.00000e+00 1.00000e+01 8.00000e+00 1.48000e+02\n",
      "  8.40000e+01 7.50000e+01]\n",
      " [5.00000e+00 1.07869e+05 4.00000e+00 1.00000e+00 9.00000e+00 1.65000e+02\n",
      "  7.40000e+01 8.50000e+01]\n",
      " [7.00000e+00 1.03849e+05 2.00000e+00 1.00000e+01 1.50000e+01 1.50000e+02\n",
      "  9.90000e+01 1.27000e+02]\n",
      " [3.00000e+00 9.00280e+04 3.00000e+00 1.00000e+01 8.00000e+00 1.63000e+02\n",
      "  1.19000e+02 9.30000e+01]\n",
      " [2.00000e+00 1.38370e+05 2.00000e+00 7.00000e+00 1.40000e+01 1.69000e+02\n",
      "  6.00000e+01 1.08000e+02]\n",
      " [6.00000e+00 1.48838e+05 4.00000e+00 8.00000e+00 1.40000e+01 1.49000e+02\n",
      "  1.00000e+02 1.40000e+02]\n",
      " [6.00000e+00 1.25188e+05 1.00000e+00 2.00000e+00 1.30000e+01 1.56000e+02\n",
      "  8.10000e+01 1.35000e+02]\n",
      " [7.00000e+00 1.46906e+05 3.00000e+00 3.00000e+00 1.20000e+01 1.63000e+02\n",
      "  7.60000e+01 1.28000e+02]\n",
      " [4.00000e+00 1.17511e+05 3.00000e+00 1.00000e+00 1.30000e+01 1.39000e+02\n",
      "  1.20000e+02 1.23000e+02]\n",
      " [6.00000e+00 7.00870e+04 3.00000e+00 1.00000e+01 1.10000e+01 1.41000e+02\n",
      "  1.06000e+02 1.36000e+02]\n",
      " [6.00000e+00 6.48390e+04 3.00000e+00 1.00000e+01 1.50000e+01 1.81000e+02\n",
      "  8.60000e+01 1.22000e+02]\n",
      " [5.00000e+00 9.87720e+04 1.00000e+00 1.00000e+01 1.40000e+01 1.38000e+02\n",
      "  1.19000e+02 9.40000e+01]\n",
      " [4.00000e+00 9.92110e+04 5.00000e+00 5.00000e+00 1.10000e+01 1.95000e+02\n",
      "  7.40000e+01 1.05000e+02]\n",
      " [4.00000e+00 1.14966e+05 2.00000e+00 7.00000e+00 1.30000e+01 1.78000e+02\n",
      "  8.20000e+01 7.60000e+01]\n",
      " [5.00000e+00 6.02130e+04 4.00000e+00 8.00000e+00 1.30000e+01 1.65000e+02\n",
      "  8.80000e+01 7.90000e+01]\n",
      " [6.00000e+00 1.34717e+05 4.00000e+00 1.00000e+01 1.10000e+01 1.64000e+02\n",
      "  6.60000e+01 1.26000e+02]\n",
      " [5.00000e+00 1.28071e+05 4.00000e+00 5.00000e+00 1.20000e+01 1.71000e+02\n",
      "  8.20000e+01 1.19000e+02]\n",
      " [3.00000e+00 8.39380e+04 5.00000e+00 4.00000e+00 1.20000e+01 1.36000e+02\n",
      "  5.60000e+01 1.15000e+02]\n",
      " [2.00000e+00 8.30220e+04 4.00000e+00 6.00000e+00 8.00000e+00 1.79000e+02\n",
      "  1.09000e+02 7.50000e+01]\n",
      " [6.00000e+00 6.01600e+04 3.00000e+00 1.00000e+00 1.00000e+01 1.61000e+02\n",
      "  8.80000e+01 9.40000e+01]\n",
      " [5.00000e+00 6.29180e+04 4.00000e+00 6.00000e+00 1.00000e+01 1.74000e+02\n",
      "  1.12000e+02 1.32000e+02]\n",
      " [4.00000e+00 6.00860e+04 5.00000e+00 2.00000e+00 1.10000e+01 1.68000e+02\n",
      "  1.07000e+02 9.50000e+01]\n",
      " [7.00000e+00 7.27300e+04 1.00000e+00 9.00000e+00 1.10000e+01 1.83000e+02\n",
      "  9.40000e+01 7.30000e+01]\n",
      " [3.00000e+00 7.63630e+04 4.00000e+00 8.00000e+00 8.00000e+00 1.52000e+02\n",
      "  1.15000e+02 8.40000e+01]\n",
      " [7.00000e+00 1.09021e+05 4.00000e+00 3.00000e+00 1.50000e+01 1.97000e+02\n",
      "  7.40000e+01 7.50000e+01]], shape=(32, 8), dtype=float32) tf.Tensor(\n",
      "[[458833.5]\n",
      " [406349.5]\n",
      " [129863. ]\n",
      " [390305.5]\n",
      " [186388.5]\n",
      " [317168.5]\n",
      " [318858. ]\n",
      " [423507. ]\n",
      " [304923.5]\n",
      " [294502.5]\n",
      " [476955.5]\n",
      " [182219.5]\n",
      " [158511. ]\n",
      " [202503. ]\n",
      " [108354. ]\n",
      " [246242. ]\n",
      " [418934. ]\n",
      " [518211. ]\n",
      " [308867. ]\n",
      " [369149. ]\n",
      " [253530.5]\n",
      " [547746. ]\n",
      " [159309.5]\n",
      " [146527. ]\n",
      " [377575. ]\n",
      " [327075.5]\n",
      " [475984.5]\n",
      " [426760. ]\n",
      " [439166. ]\n",
      " [375370.5]\n",
      " [503606.5]\n",
      " [250309.5]], shape=(32, 1), dtype=float32)\n"
     ]
    }
   ],
   "source": [
    "for x,y in train_dataset:\n",
    "    print(x,y)\n",
    "    break"
   ]
  },
  {
   "cell_type": "code",
   "execution_count": 73,
   "metadata": {},
   "outputs": [
    {
     "name": "stdout",
     "output_type": "stream",
     "text": [
      "(100, 8) (100, 1)\n"
     ]
    }
   ],
   "source": [
    "#validation data\n",
    "X_val = X[int(DATASET_SIZE * TRAIN_RATIO):int(DATASET_SIZE * (TRAIN_RATIO + VAL_RATIO))]\n",
    "Y_val = Y[int(DATASET_SIZE * TRAIN_RATIO):int(DATASET_SIZE * (TRAIN_RATIO + VAL_RATIO))]\n",
    "print(X_val.shape, Y_val.shape)\n",
    "val_dataset = tf.data.Dataset.from_tensor_slices((X_val, Y_val))\n",
    "val_dataset = val_dataset.shuffle(buffer_size=8, reshuffle_each_iteration=True).batch(32).prefetch(tf.data.AUTOTUNE)"
   ]
  },
  {
   "cell_type": "code",
   "execution_count": 74,
   "metadata": {},
   "outputs": [
    {
     "name": "stdout",
     "output_type": "stream",
     "text": [
      "(100, 8) (100, 1)\n"
     ]
    },
    {
     "data": {
      "text/plain": [
       "<_PrefetchDataset element_spec=(TensorSpec(shape=(None, 8), dtype=tf.float32, name=None), TensorSpec(shape=(None, 1), dtype=tf.float32, name=None))>"
      ]
     },
     "execution_count": 74,
     "metadata": {},
     "output_type": "execute_result"
    }
   ],
   "source": [
    "# testing data\n",
    "X_test = X[int(DATASET_SIZE * (TRAIN_RATIO + VAL_RATIO)):]\n",
    "Y_test = Y[int(DATASET_SIZE * (TRAIN_RATIO + VAL_RATIO)):]\n",
    "print(X_test.shape, Y_test.shape)\n",
    "test_dataset = tf.data.Dataset.from_tensor_slices((X_test, Y_test))\n",
    "test_dataset = test_dataset.shuffle(buffer_size=1024, reshuffle_each_iteration=True)\n",
    "test_dataset.batch(32).prefetch(tf.data.AUTOTUNE)"
   ]
  },
  {
   "cell_type": "code",
   "execution_count": 75,
   "metadata": {},
   "outputs": [
    {
     "data": {
      "text/plain": [
       "<tf.Tensor: shape=(800, 8), dtype=float32, numpy=\n",
       "array([[ 0.2355255 , -0.51052296,  1.3972702 , ..., -0.51699114,\n",
       "        -0.02665798, -1.1966462 ],\n",
       "       [ 0.2355255 ,  0.79434466,  1.3972702 , ...,  0.6314433 ,\n",
       "         1.0052574 , -1.3884165 ],\n",
       "       [-0.3496308 , -0.5764932 , -0.73190343, ..., -0.30818486,\n",
       "         0.808702  ,  0.76899874],\n",
       "       ...,\n",
       "       [-0.93478715,  0.03253733, -1.441628  , ..., -0.51699114,\n",
       "         0.41559142, -1.1487037 ],\n",
       "       [-1.5199435 ,  1.4068711 ,  0.68754566, ..., -0.7257974 ,\n",
       "        -0.56718504, -0.86104834],\n",
       "       [-0.3496308 ,  1.2303851 ,  0.68754566, ..., -0.5691927 ,\n",
       "        -0.9111568 ,  0.09780287]], dtype=float32)>"
      ]
     },
     "execution_count": 75,
     "metadata": {},
     "output_type": "execute_result"
    }
   ],
   "source": [
    "normalizer = Normalization()\n",
    "normalizer.adapt(X_train)\n",
    "normalizer(X_train)"
   ]
  },
  {
   "cell_type": "code",
   "execution_count": 76,
   "metadata": {},
   "outputs": [
    {
     "name": "stdout",
     "output_type": "stream",
     "text": [
      "Epoch 1/100\n",
      "\u001b[1m25/25\u001b[0m \u001b[32m━━━━━━━━━━━━━━━━━━━━\u001b[0m\u001b[37m\u001b[0m \u001b[1m0s\u001b[0m 1ms/step - loss: 27472.4902 - root_mean_squared_error: 34909.7891 - val_loss: 43055.9961 - val_root_mean_squared_error: 51547.4922\n",
      "Epoch 2/100\n",
      "\u001b[1m25/25\u001b[0m \u001b[32m━━━━━━━━━━━━━━━━━━━━\u001b[0m\u001b[37m\u001b[0m \u001b[1m0s\u001b[0m 1ms/step - loss: 25284.6133 - root_mean_squared_error: 32769.4453 - val_loss: 44429.7695 - val_root_mean_squared_error: 53966.4922\n",
      "Epoch 3/100\n",
      "\u001b[1m25/25\u001b[0m \u001b[32m━━━━━━━━━━━━━━━━━━━━\u001b[0m\u001b[37m\u001b[0m \u001b[1m0s\u001b[0m 1ms/step - loss: 29754.2949 - root_mean_squared_error: 38340.6875 - val_loss: 42143.2500 - val_root_mean_squared_error: 51092.7773\n",
      "Epoch 4/100\n",
      "\u001b[1m25/25\u001b[0m \u001b[32m━━━━━━━━━━━━━━━━━━━━\u001b[0m\u001b[37m\u001b[0m \u001b[1m0s\u001b[0m 1ms/step - loss: 28947.8516 - root_mean_squared_error: 36921.8867 - val_loss: 46685.0000 - val_root_mean_squared_error: 56183.1758\n",
      "Epoch 5/100\n",
      "\u001b[1m25/25\u001b[0m \u001b[32m━━━━━━━━━━━━━━━━━━━━\u001b[0m\u001b[37m\u001b[0m \u001b[1m0s\u001b[0m 976us/step - loss: 28222.2207 - root_mean_squared_error: 36008.2109 - val_loss: 47358.9141 - val_root_mean_squared_error: 56645.0586\n",
      "Epoch 6/100\n",
      "\u001b[1m25/25\u001b[0m \u001b[32m━━━━━━━━━━━━━━━━━━━━\u001b[0m\u001b[37m\u001b[0m \u001b[1m0s\u001b[0m 1ms/step - loss: 29235.0605 - root_mean_squared_error: 37201.2734 - val_loss: 40909.5312 - val_root_mean_squared_error: 50289.2109\n",
      "Epoch 7/100\n",
      "\u001b[1m25/25\u001b[0m \u001b[32m━━━━━━━━━━━━━━━━━━━━\u001b[0m\u001b[37m\u001b[0m \u001b[1m0s\u001b[0m 1ms/step - loss: 26553.6738 - root_mean_squared_error: 34451.8828 - val_loss: 41402.7891 - val_root_mean_squared_error: 49839.9336\n",
      "Epoch 8/100\n",
      "\u001b[1m25/25\u001b[0m \u001b[32m━━━━━━━━━━━━━━━━━━━━\u001b[0m\u001b[37m\u001b[0m \u001b[1m0s\u001b[0m 1ms/step - loss: 25972.3711 - root_mean_squared_error: 33942.6133 - val_loss: 42732.5859 - val_root_mean_squared_error: 51918.8672\n",
      "Epoch 9/100\n",
      "\u001b[1m25/25\u001b[0m \u001b[32m━━━━━━━━━━━━━━━━━━━━\u001b[0m\u001b[37m\u001b[0m \u001b[1m0s\u001b[0m 1ms/step - loss: 26069.9492 - root_mean_squared_error: 33853.6367 - val_loss: 42538.0508 - val_root_mean_squared_error: 51777.5742\n",
      "Epoch 10/100\n",
      "\u001b[1m25/25\u001b[0m \u001b[32m━━━━━━━━━━━━━━━━━━━━\u001b[0m\u001b[37m\u001b[0m \u001b[1m0s\u001b[0m 1ms/step - loss: 25251.0566 - root_mean_squared_error: 33332.6484 - val_loss: 43783.2266 - val_root_mean_squared_error: 53661.0977\n",
      "Epoch 11/100\n",
      "\u001b[1m25/25\u001b[0m \u001b[32m━━━━━━━━━━━━━━━━━━━━\u001b[0m\u001b[37m\u001b[0m \u001b[1m0s\u001b[0m 1ms/step - loss: 25558.8262 - root_mean_squared_error: 33430.7852 - val_loss: 44933.9219 - val_root_mean_squared_error: 54366.5977\n",
      "Epoch 12/100\n",
      "\u001b[1m25/25\u001b[0m \u001b[32m━━━━━━━━━━━━━━━━━━━━\u001b[0m\u001b[37m\u001b[0m \u001b[1m0s\u001b[0m 998us/step - loss: 26240.0957 - root_mean_squared_error: 34087.2461 - val_loss: 43903.9453 - val_root_mean_squared_error: 53492.1172\n",
      "Epoch 13/100\n",
      "\u001b[1m25/25\u001b[0m \u001b[32m━━━━━━━━━━━━━━━━━━━━\u001b[0m\u001b[37m\u001b[0m \u001b[1m0s\u001b[0m 1ms/step - loss: 24405.9961 - root_mean_squared_error: 32204.1211 - val_loss: 41806.0625 - val_root_mean_squared_error: 51615.7852\n",
      "Epoch 14/100\n",
      "\u001b[1m25/25\u001b[0m \u001b[32m━━━━━━━━━━━━━━━━━━━━\u001b[0m\u001b[37m\u001b[0m \u001b[1m0s\u001b[0m 1ms/step - loss: 25515.1758 - root_mean_squared_error: 33475.0195 - val_loss: 42395.4648 - val_root_mean_squared_error: 51545.5742\n",
      "Epoch 15/100\n",
      "\u001b[1m25/25\u001b[0m \u001b[32m━━━━━━━━━━━━━━━━━━━━\u001b[0m\u001b[37m\u001b[0m \u001b[1m0s\u001b[0m 1ms/step - loss: 27068.8457 - root_mean_squared_error: 35287.7969 - val_loss: 44211.2266 - val_root_mean_squared_error: 54060.6445\n",
      "Epoch 16/100\n",
      "\u001b[1m25/25\u001b[0m \u001b[32m━━━━━━━━━━━━━━━━━━━━\u001b[0m\u001b[37m\u001b[0m \u001b[1m0s\u001b[0m 1ms/step - loss: 26366.8730 - root_mean_squared_error: 34575.6875 - val_loss: 45216.9766 - val_root_mean_squared_error: 55506.3438\n",
      "Epoch 17/100\n",
      "\u001b[1m25/25\u001b[0m \u001b[32m━━━━━━━━━━━━━━━━━━━━\u001b[0m\u001b[37m\u001b[0m \u001b[1m0s\u001b[0m 1ms/step - loss: 25519.4492 - root_mean_squared_error: 33663.9844 - val_loss: 41245.8164 - val_root_mean_squared_error: 51622.5156\n",
      "Epoch 18/100\n",
      "\u001b[1m25/25\u001b[0m \u001b[32m━━━━━━━━━━━━━━━━━━━━\u001b[0m\u001b[37m\u001b[0m \u001b[1m0s\u001b[0m 990us/step - loss: 25813.5332 - root_mean_squared_error: 34008.7109 - val_loss: 41189.9453 - val_root_mean_squared_error: 50210.6250\n",
      "Epoch 19/100\n",
      "\u001b[1m25/25\u001b[0m \u001b[32m━━━━━━━━━━━━━━━━━━━━\u001b[0m\u001b[37m\u001b[0m \u001b[1m0s\u001b[0m 1ms/step - loss: 25695.7656 - root_mean_squared_error: 33405.6445 - val_loss: 41920.6211 - val_root_mean_squared_error: 51409.3828\n",
      "Epoch 20/100\n",
      "\u001b[1m25/25\u001b[0m \u001b[32m━━━━━━━━━━━━━━━━━━━━\u001b[0m\u001b[37m\u001b[0m \u001b[1m0s\u001b[0m 1ms/step - loss: 25907.7461 - root_mean_squared_error: 33987.7148 - val_loss: 42097.6992 - val_root_mean_squared_error: 51361.5859\n",
      "Epoch 21/100\n",
      "\u001b[1m25/25\u001b[0m \u001b[32m━━━━━━━━━━━━━━━━━━━━\u001b[0m\u001b[37m\u001b[0m \u001b[1m0s\u001b[0m 1ms/step - loss: 28525.1445 - root_mean_squared_error: 36689.5625 - val_loss: 47758.6367 - val_root_mean_squared_error: 58495.3242\n",
      "Epoch 22/100\n",
      "\u001b[1m25/25\u001b[0m \u001b[32m━━━━━━━━━━━━━━━━━━━━\u001b[0m\u001b[37m\u001b[0m \u001b[1m0s\u001b[0m 1ms/step - loss: 26926.0625 - root_mean_squared_error: 35060.6875 - val_loss: 47024.7305 - val_root_mean_squared_error: 57633.9023\n",
      "Epoch 23/100\n",
      "\u001b[1m25/25\u001b[0m \u001b[32m━━━━━━━━━━━━━━━━━━━━\u001b[0m\u001b[37m\u001b[0m \u001b[1m0s\u001b[0m 1ms/step - loss: 25220.3398 - root_mean_squared_error: 33004.6445 - val_loss: 43773.0352 - val_root_mean_squared_error: 53009.6016\n",
      "Epoch 24/100\n",
      "\u001b[1m25/25\u001b[0m \u001b[32m━━━━━━━━━━━━━━━━━━━━\u001b[0m\u001b[37m\u001b[0m \u001b[1m0s\u001b[0m 1ms/step - loss: 24049.4688 - root_mean_squared_error: 31514.1426 - val_loss: 41511.3594 - val_root_mean_squared_error: 49952.2500\n",
      "Epoch 25/100\n",
      "\u001b[1m25/25\u001b[0m \u001b[32m━━━━━━━━━━━━━━━━━━━━\u001b[0m\u001b[37m\u001b[0m \u001b[1m0s\u001b[0m 2ms/step - loss: 23202.7402 - root_mean_squared_error: 30866.9375 - val_loss: 42799.5000 - val_root_mean_squared_error: 52022.0117\n",
      "Epoch 26/100\n",
      "\u001b[1m25/25\u001b[0m \u001b[32m━━━━━━━━━━━━━━━━━━━━\u001b[0m\u001b[37m\u001b[0m \u001b[1m0s\u001b[0m 2ms/step - loss: 24826.7168 - root_mean_squared_error: 32484.8125 - val_loss: 42953.6484 - val_root_mean_squared_error: 52005.3555\n",
      "Epoch 27/100\n",
      "\u001b[1m25/25\u001b[0m \u001b[32m━━━━━━━━━━━━━━━━━━━━\u001b[0m\u001b[37m\u001b[0m \u001b[1m0s\u001b[0m 1ms/step - loss: 23709.0234 - root_mean_squared_error: 31423.8086 - val_loss: 49570.1641 - val_root_mean_squared_error: 60498.1523\n",
      "Epoch 28/100\n",
      "\u001b[1m25/25\u001b[0m \u001b[32m━━━━━━━━━━━━━━━━━━━━\u001b[0m\u001b[37m\u001b[0m \u001b[1m0s\u001b[0m 1ms/step - loss: 26560.9453 - root_mean_squared_error: 34752.8203 - val_loss: 50123.9414 - val_root_mean_squared_error: 60191.6797\n",
      "Epoch 29/100\n",
      "\u001b[1m25/25\u001b[0m \u001b[32m━━━━━━━━━━━━━━━━━━━━\u001b[0m\u001b[37m\u001b[0m \u001b[1m0s\u001b[0m 1ms/step - loss: 28590.2598 - root_mean_squared_error: 36994.7344 - val_loss: 42233.8633 - val_root_mean_squared_error: 51233.1641\n",
      "Epoch 30/100\n",
      "\u001b[1m25/25\u001b[0m \u001b[32m━━━━━━━━━━━━━━━━━━━━\u001b[0m\u001b[37m\u001b[0m \u001b[1m0s\u001b[0m 1ms/step - loss: 25407.9355 - root_mean_squared_error: 32806.3359 - val_loss: 43034.3398 - val_root_mean_squared_error: 53347.1992\n",
      "Epoch 31/100\n",
      "\u001b[1m25/25\u001b[0m \u001b[32m━━━━━━━━━━━━━━━━━━━━\u001b[0m\u001b[37m\u001b[0m \u001b[1m0s\u001b[0m 1ms/step - loss: 23255.1152 - root_mean_squared_error: 31071.4629 - val_loss: 43076.4766 - val_root_mean_squared_error: 52817.1680\n",
      "Epoch 32/100\n",
      "\u001b[1m25/25\u001b[0m \u001b[32m━━━━━━━━━━━━━━━━━━━━\u001b[0m\u001b[37m\u001b[0m \u001b[1m0s\u001b[0m 1ms/step - loss: 24822.3711 - root_mean_squared_error: 32991.5117 - val_loss: 43816.8633 - val_root_mean_squared_error: 52740.0273\n",
      "Epoch 33/100\n",
      "\u001b[1m25/25\u001b[0m \u001b[32m━━━━━━━━━━━━━━━━━━━━\u001b[0m\u001b[37m\u001b[0m \u001b[1m0s\u001b[0m 1ms/step - loss: 23339.4355 - root_mean_squared_error: 31109.3145 - val_loss: 48778.1211 - val_root_mean_squared_error: 59220.2305\n",
      "Epoch 34/100\n",
      "\u001b[1m25/25\u001b[0m \u001b[32m━━━━━━━━━━━━━━━━━━━━\u001b[0m\u001b[37m\u001b[0m \u001b[1m0s\u001b[0m 1ms/step - loss: 25066.8262 - root_mean_squared_error: 33310.8164 - val_loss: 45281.0391 - val_root_mean_squared_error: 55466.5625\n",
      "Epoch 35/100\n",
      "\u001b[1m25/25\u001b[0m \u001b[32m━━━━━━━━━━━━━━━━━━━━\u001b[0m\u001b[37m\u001b[0m \u001b[1m0s\u001b[0m 1ms/step - loss: 25163.0840 - root_mean_squared_error: 33009.2227 - val_loss: 43240.5195 - val_root_mean_squared_error: 51882.4609\n",
      "Epoch 36/100\n",
      "\u001b[1m25/25\u001b[0m \u001b[32m━━━━━━━━━━━━━━━━━━━━\u001b[0m\u001b[37m\u001b[0m \u001b[1m0s\u001b[0m 1ms/step - loss: 25374.5391 - root_mean_squared_error: 32753.2344 - val_loss: 42167.1484 - val_root_mean_squared_error: 51639.7188\n",
      "Epoch 37/100\n",
      "\u001b[1m25/25\u001b[0m \u001b[32m━━━━━━━━━━━━━━━━━━━━\u001b[0m\u001b[37m\u001b[0m \u001b[1m0s\u001b[0m 2ms/step - loss: 26236.4258 - root_mean_squared_error: 34656.3047 - val_loss: 41883.6953 - val_root_mean_squared_error: 52017.4258\n",
      "Epoch 38/100\n",
      "\u001b[1m25/25\u001b[0m \u001b[32m━━━━━━━━━━━━━━━━━━━━\u001b[0m\u001b[37m\u001b[0m \u001b[1m0s\u001b[0m 4ms/step - loss: 25189.0293 - root_mean_squared_error: 32955.7070 - val_loss: 45558.2891 - val_root_mean_squared_error: 56619.6094\n",
      "Epoch 39/100\n",
      "\u001b[1m25/25\u001b[0m \u001b[32m━━━━━━━━━━━━━━━━━━━━\u001b[0m\u001b[37m\u001b[0m \u001b[1m0s\u001b[0m 2ms/step - loss: 24057.9414 - root_mean_squared_error: 31447.4062 - val_loss: 41323.0312 - val_root_mean_squared_error: 51354.4609\n",
      "Epoch 40/100\n",
      "\u001b[1m25/25\u001b[0m \u001b[32m━━━━━━━━━━━━━━━━━━━━\u001b[0m\u001b[37m\u001b[0m \u001b[1m0s\u001b[0m 2ms/step - loss: 22252.1016 - root_mean_squared_error: 29577.2324 - val_loss: 41849.8320 - val_root_mean_squared_error: 51783.9375\n",
      "Epoch 41/100\n",
      "\u001b[1m25/25\u001b[0m \u001b[32m━━━━━━━━━━━━━━━━━━━━\u001b[0m\u001b[37m\u001b[0m \u001b[1m0s\u001b[0m 1ms/step - loss: 24100.5625 - root_mean_squared_error: 31758.4141 - val_loss: 43250.4102 - val_root_mean_squared_error: 53991.0820\n",
      "Epoch 42/100\n",
      "\u001b[1m25/25\u001b[0m \u001b[32m━━━━━━━━━━━━━━━━━━━━\u001b[0m\u001b[37m\u001b[0m \u001b[1m0s\u001b[0m 1ms/step - loss: 23461.3984 - root_mean_squared_error: 31300.8887 - val_loss: 44320.6133 - val_root_mean_squared_error: 55525.3906\n",
      "Epoch 43/100\n",
      "\u001b[1m25/25\u001b[0m \u001b[32m━━━━━━━━━━━━━━━━━━━━\u001b[0m\u001b[37m\u001b[0m \u001b[1m0s\u001b[0m 1ms/step - loss: 22263.1836 - root_mean_squared_error: 30392.6875 - val_loss: 45207.8008 - val_root_mean_squared_error: 56483.0469\n",
      "Epoch 44/100\n",
      "\u001b[1m25/25\u001b[0m \u001b[32m━━━━━━━━━━━━━━━━━━━━\u001b[0m\u001b[37m\u001b[0m \u001b[1m0s\u001b[0m 1ms/step - loss: 22499.3164 - root_mean_squared_error: 30498.5957 - val_loss: 42648.8164 - val_root_mean_squared_error: 52100.4336\n",
      "Epoch 45/100\n",
      "\u001b[1m25/25\u001b[0m \u001b[32m━━━━━━━━━━━━━━━━━━━━\u001b[0m\u001b[37m\u001b[0m \u001b[1m0s\u001b[0m 1ms/step - loss: 21965.2676 - root_mean_squared_error: 29379.1934 - val_loss: 43708.6250 - val_root_mean_squared_error: 53316.9766\n",
      "Epoch 46/100\n",
      "\u001b[1m25/25\u001b[0m \u001b[32m━━━━━━━━━━━━━━━━━━━━\u001b[0m\u001b[37m\u001b[0m \u001b[1m0s\u001b[0m 1ms/step - loss: 23554.4082 - root_mean_squared_error: 31172.3457 - val_loss: 42012.7891 - val_root_mean_squared_error: 51434.6992\n",
      "Epoch 47/100\n",
      "\u001b[1m25/25\u001b[0m \u001b[32m━━━━━━━━━━━━━━━━━━━━\u001b[0m\u001b[37m\u001b[0m \u001b[1m0s\u001b[0m 1ms/step - loss: 27679.4922 - root_mean_squared_error: 35279.7031 - val_loss: 48163.1211 - val_root_mean_squared_error: 59079.0781\n",
      "Epoch 48/100\n",
      "\u001b[1m25/25\u001b[0m \u001b[32m━━━━━━━━━━━━━━━━━━━━\u001b[0m\u001b[37m\u001b[0m \u001b[1m0s\u001b[0m 1ms/step - loss: 24701.2891 - root_mean_squared_error: 32122.1406 - val_loss: 45844.8008 - val_root_mean_squared_error: 55491.7148\n",
      "Epoch 49/100\n",
      "\u001b[1m25/25\u001b[0m \u001b[32m━━━━━━━━━━━━━━━━━━━━\u001b[0m\u001b[37m\u001b[0m \u001b[1m0s\u001b[0m 1ms/step - loss: 24258.6777 - root_mean_squared_error: 31874.0586 - val_loss: 43342.1836 - val_root_mean_squared_error: 53134.4570\n",
      "Epoch 50/100\n",
      "\u001b[1m25/25\u001b[0m \u001b[32m━━━━━━━━━━━━━━━━━━━━\u001b[0m\u001b[37m\u001b[0m \u001b[1m0s\u001b[0m 1ms/step - loss: 23001.5137 - root_mean_squared_error: 30440.6523 - val_loss: 43633.0703 - val_root_mean_squared_error: 53496.5312\n",
      "Epoch 51/100\n",
      "\u001b[1m25/25\u001b[0m \u001b[32m━━━━━━━━━━━━━━━━━━━━\u001b[0m\u001b[37m\u001b[0m \u001b[1m0s\u001b[0m 1ms/step - loss: 23252.4414 - root_mean_squared_error: 30339.9980 - val_loss: 46100.5000 - val_root_mean_squared_error: 55765.4688\n",
      "Epoch 52/100\n",
      "\u001b[1m25/25\u001b[0m \u001b[32m━━━━━━━━━━━━━━━━━━━━\u001b[0m\u001b[37m\u001b[0m \u001b[1m0s\u001b[0m 1ms/step - loss: 27251.1797 - root_mean_squared_error: 35476.3398 - val_loss: 45806.3164 - val_root_mean_squared_error: 57528.9492\n",
      "Epoch 53/100\n",
      "\u001b[1m25/25\u001b[0m \u001b[32m━━━━━━━━━━━━━━━━━━━━\u001b[0m\u001b[37m\u001b[0m \u001b[1m0s\u001b[0m 1ms/step - loss: 22359.5508 - root_mean_squared_error: 29627.4355 - val_loss: 44800.0000 - val_root_mean_squared_error: 54432.6641\n",
      "Epoch 54/100\n",
      "\u001b[1m25/25\u001b[0m \u001b[32m━━━━━━━━━━━━━━━━━━━━\u001b[0m\u001b[37m\u001b[0m \u001b[1m0s\u001b[0m 1ms/step - loss: 21013.5430 - root_mean_squared_error: 28070.1074 - val_loss: 43231.3359 - val_root_mean_squared_error: 54806.6641\n",
      "Epoch 55/100\n",
      "\u001b[1m25/25\u001b[0m \u001b[32m━━━━━━━━━━━━━━━━━━━━\u001b[0m\u001b[37m\u001b[0m \u001b[1m0s\u001b[0m 1ms/step - loss: 21417.2578 - root_mean_squared_error: 28711.6055 - val_loss: 43187.0742 - val_root_mean_squared_error: 53422.4414\n",
      "Epoch 56/100\n",
      "\u001b[1m25/25\u001b[0m \u001b[32m━━━━━━━━━━━━━━━━━━━━\u001b[0m\u001b[37m\u001b[0m \u001b[1m0s\u001b[0m 2ms/step - loss: 21999.6426 - root_mean_squared_error: 29309.1758 - val_loss: 48452.4062 - val_root_mean_squared_error: 59273.1641\n",
      "Epoch 57/100\n",
      "\u001b[1m25/25\u001b[0m \u001b[32m━━━━━━━━━━━━━━━━━━━━\u001b[0m\u001b[37m\u001b[0m \u001b[1m0s\u001b[0m 2ms/step - loss: 25583.7969 - root_mean_squared_error: 33358.6484 - val_loss: 45275.2695 - val_root_mean_squared_error: 55189.5664\n",
      "Epoch 58/100\n",
      "\u001b[1m25/25\u001b[0m \u001b[32m━━━━━━━━━━━━━━━━━━━━\u001b[0m\u001b[37m\u001b[0m \u001b[1m0s\u001b[0m 1ms/step - loss: 22445.3828 - root_mean_squared_error: 29688.5820 - val_loss: 44039.2500 - val_root_mean_squared_error: 55278.3984\n",
      "Epoch 59/100\n",
      "\u001b[1m25/25\u001b[0m \u001b[32m━━━━━━━━━━━━━━━━━━━━\u001b[0m\u001b[37m\u001b[0m \u001b[1m0s\u001b[0m 1ms/step - loss: 22842.7227 - root_mean_squared_error: 30127.5098 - val_loss: 44494.7266 - val_root_mean_squared_error: 55015.4023\n",
      "Epoch 60/100\n",
      "\u001b[1m25/25\u001b[0m \u001b[32m━━━━━━━━━━━━━━━━━━━━\u001b[0m\u001b[37m\u001b[0m \u001b[1m0s\u001b[0m 1ms/step - loss: 25010.3809 - root_mean_squared_error: 32855.1719 - val_loss: 46089.1797 - val_root_mean_squared_error: 56963.6875\n",
      "Epoch 61/100\n",
      "\u001b[1m25/25\u001b[0m \u001b[32m━━━━━━━━━━━━━━━━━━━━\u001b[0m\u001b[37m\u001b[0m \u001b[1m0s\u001b[0m 1ms/step - loss: 24324.9824 - root_mean_squared_error: 32240.5332 - val_loss: 45883.3984 - val_root_mean_squared_error: 57260.6523\n",
      "Epoch 62/100\n",
      "\u001b[1m25/25\u001b[0m \u001b[32m━━━━━━━━━━━━━━━━━━━━\u001b[0m\u001b[37m\u001b[0m \u001b[1m0s\u001b[0m 1ms/step - loss: 23038.0996 - root_mean_squared_error: 30531.9824 - val_loss: 46999.6289 - val_root_mean_squared_error: 57424.8516\n",
      "Epoch 63/100\n",
      "\u001b[1m25/25\u001b[0m \u001b[32m━━━━━━━━━━━━━━━━━━━━\u001b[0m\u001b[37m\u001b[0m \u001b[1m0s\u001b[0m 1ms/step - loss: 26286.6348 - root_mean_squared_error: 33607.2500 - val_loss: 43530.2852 - val_root_mean_squared_error: 54700.9805\n",
      "Epoch 64/100\n",
      "\u001b[1m25/25\u001b[0m \u001b[32m━━━━━━━━━━━━━━━━━━━━\u001b[0m\u001b[37m\u001b[0m \u001b[1m0s\u001b[0m 1ms/step - loss: 26030.8594 - root_mean_squared_error: 33956.0508 - val_loss: 41847.4062 - val_root_mean_squared_error: 52809.3242\n",
      "Epoch 65/100\n",
      "\u001b[1m25/25\u001b[0m \u001b[32m━━━━━━━━━━━━━━━━━━━━\u001b[0m\u001b[37m\u001b[0m \u001b[1m0s\u001b[0m 1ms/step - loss: 24203.7422 - root_mean_squared_error: 31392.7090 - val_loss: 42166.9883 - val_root_mean_squared_error: 54276.8477\n",
      "Epoch 66/100\n",
      "\u001b[1m25/25\u001b[0m \u001b[32m━━━━━━━━━━━━━━━━━━━━\u001b[0m\u001b[37m\u001b[0m \u001b[1m0s\u001b[0m 1ms/step - loss: 23962.3184 - root_mean_squared_error: 31045.4746 - val_loss: 42791.6719 - val_root_mean_squared_error: 55576.3711\n",
      "Epoch 67/100\n",
      "\u001b[1m25/25\u001b[0m \u001b[32m━━━━━━━━━━━━━━━━━━━━\u001b[0m\u001b[37m\u001b[0m \u001b[1m0s\u001b[0m 1ms/step - loss: 21558.7441 - root_mean_squared_error: 28537.3223 - val_loss: 42258.1406 - val_root_mean_squared_error: 52664.1641\n",
      "Epoch 68/100\n",
      "\u001b[1m25/25\u001b[0m \u001b[32m━━━━━━━━━━━━━━━━━━━━\u001b[0m\u001b[37m\u001b[0m \u001b[1m0s\u001b[0m 1ms/step - loss: 21004.1074 - root_mean_squared_error: 28082.3145 - val_loss: 41754.3906 - val_root_mean_squared_error: 53430.5391\n",
      "Epoch 69/100\n",
      "\u001b[1m25/25\u001b[0m \u001b[32m━━━━━━━━━━━━━━━━━━━━\u001b[0m\u001b[37m\u001b[0m \u001b[1m0s\u001b[0m 1ms/step - loss: 21087.8828 - root_mean_squared_error: 28442.4277 - val_loss: 41764.0938 - val_root_mean_squared_error: 54450.8672\n",
      "Epoch 70/100\n",
      "\u001b[1m25/25\u001b[0m \u001b[32m━━━━━━━━━━━━━━━━━━━━\u001b[0m\u001b[37m\u001b[0m \u001b[1m0s\u001b[0m 1ms/step - loss: 24315.5430 - root_mean_squared_error: 31648.3262 - val_loss: 50653.4844 - val_root_mean_squared_error: 62752.0508\n",
      "Epoch 71/100\n",
      "\u001b[1m25/25\u001b[0m \u001b[32m━━━━━━━━━━━━━━━━━━━━\u001b[0m\u001b[37m\u001b[0m \u001b[1m0s\u001b[0m 1ms/step - loss: 26055.4238 - root_mean_squared_error: 33945.0820 - val_loss: 43969.1016 - val_root_mean_squared_error: 55084.1797\n",
      "Epoch 72/100\n",
      "\u001b[1m25/25\u001b[0m \u001b[32m━━━━━━━━━━━━━━━━━━━━\u001b[0m\u001b[37m\u001b[0m \u001b[1m0s\u001b[0m 1ms/step - loss: 20120.9844 - root_mean_squared_error: 26913.7012 - val_loss: 42782.6836 - val_root_mean_squared_error: 53688.4648\n",
      "Epoch 73/100\n",
      "\u001b[1m25/25\u001b[0m \u001b[32m━━━━━━━━━━━━━━━━━━━━\u001b[0m\u001b[37m\u001b[0m \u001b[1m0s\u001b[0m 1ms/step - loss: 20972.3281 - root_mean_squared_error: 28102.1250 - val_loss: 43599.8281 - val_root_mean_squared_error: 54361.2148\n",
      "Epoch 74/100\n",
      "\u001b[1m25/25\u001b[0m \u001b[32m━━━━━━━━━━━━━━━━━━━━\u001b[0m\u001b[37m\u001b[0m \u001b[1m0s\u001b[0m 1ms/step - loss: 20490.1875 - root_mean_squared_error: 27885.2461 - val_loss: 45818.5234 - val_root_mean_squared_error: 57130.4297\n",
      "Epoch 75/100\n",
      "\u001b[1m25/25\u001b[0m \u001b[32m━━━━━━━━━━━━━━━━━━━━\u001b[0m\u001b[37m\u001b[0m \u001b[1m0s\u001b[0m 1ms/step - loss: 20015.3633 - root_mean_squared_error: 27127.3906 - val_loss: 44188.8086 - val_root_mean_squared_error: 55207.8672\n",
      "Epoch 76/100\n",
      "\u001b[1m25/25\u001b[0m \u001b[32m━━━━━━━━━━━━━━━━━━━━\u001b[0m\u001b[37m\u001b[0m \u001b[1m0s\u001b[0m 1ms/step - loss: 18528.4727 - root_mean_squared_error: 25700.4785 - val_loss: 43284.0234 - val_root_mean_squared_error: 54232.5430\n",
      "Epoch 77/100\n",
      "\u001b[1m25/25\u001b[0m \u001b[32m━━━━━━━━━━━━━━━━━━━━\u001b[0m\u001b[37m\u001b[0m \u001b[1m0s\u001b[0m 1ms/step - loss: 19455.0508 - root_mean_squared_error: 26472.4355 - val_loss: 46069.1836 - val_root_mean_squared_error: 57239.0742\n",
      "Epoch 78/100\n",
      "\u001b[1m25/25\u001b[0m \u001b[32m━━━━━━━━━━━━━━━━━━━━\u001b[0m\u001b[37m\u001b[0m \u001b[1m0s\u001b[0m 1ms/step - loss: 21799.0586 - root_mean_squared_error: 29104.1230 - val_loss: 42004.6953 - val_root_mean_squared_error: 52923.4141\n",
      "Epoch 79/100\n",
      "\u001b[1m25/25\u001b[0m \u001b[32m━━━━━━━━━━━━━━━━━━━━\u001b[0m\u001b[37m\u001b[0m \u001b[1m0s\u001b[0m 1ms/step - loss: 25528.0449 - root_mean_squared_error: 33203.4609 - val_loss: 47012.1602 - val_root_mean_squared_error: 59561.7461\n",
      "Epoch 80/100\n",
      "\u001b[1m25/25\u001b[0m \u001b[32m━━━━━━━━━━━━━━━━━━━━\u001b[0m\u001b[37m\u001b[0m \u001b[1m0s\u001b[0m 1ms/step - loss: 21871.3262 - root_mean_squared_error: 29740.7285 - val_loss: 42798.5039 - val_root_mean_squared_error: 53437.7500\n",
      "Epoch 81/100\n",
      "\u001b[1m25/25\u001b[0m \u001b[32m━━━━━━━━━━━━━━━━━━━━\u001b[0m\u001b[37m\u001b[0m \u001b[1m0s\u001b[0m 1ms/step - loss: 18285.8125 - root_mean_squared_error: 25240.0098 - val_loss: 43368.9531 - val_root_mean_squared_error: 54652.2969\n",
      "Epoch 82/100\n",
      "\u001b[1m25/25\u001b[0m \u001b[32m━━━━━━━━━━━━━━━━━━━━\u001b[0m\u001b[37m\u001b[0m \u001b[1m0s\u001b[0m 1ms/step - loss: 21691.4160 - root_mean_squared_error: 28878.5117 - val_loss: 45825.4297 - val_root_mean_squared_error: 57799.0000\n",
      "Epoch 83/100\n",
      "\u001b[1m25/25\u001b[0m \u001b[32m━━━━━━━━━━━━━━━━━━━━\u001b[0m\u001b[37m\u001b[0m \u001b[1m0s\u001b[0m 1ms/step - loss: 24143.8516 - root_mean_squared_error: 31871.8086 - val_loss: 45190.1250 - val_root_mean_squared_error: 58534.6406\n",
      "Epoch 84/100\n",
      "\u001b[1m25/25\u001b[0m \u001b[32m━━━━━━━━━━━━━━━━━━━━\u001b[0m\u001b[37m\u001b[0m \u001b[1m0s\u001b[0m 2ms/step - loss: 22109.6641 - root_mean_squared_error: 29753.8340 - val_loss: 43450.5000 - val_root_mean_squared_error: 55195.7500\n",
      "Epoch 85/100\n",
      "\u001b[1m25/25\u001b[0m \u001b[32m━━━━━━━━━━━━━━━━━━━━\u001b[0m\u001b[37m\u001b[0m \u001b[1m0s\u001b[0m 2ms/step - loss: 20640.8086 - root_mean_squared_error: 27858.4922 - val_loss: 43177.5352 - val_root_mean_squared_error: 54920.1094\n",
      "Epoch 86/100\n",
      "\u001b[1m25/25\u001b[0m \u001b[32m━━━━━━━━━━━━━━━━━━━━\u001b[0m\u001b[37m\u001b[0m \u001b[1m0s\u001b[0m 2ms/step - loss: 21712.4180 - root_mean_squared_error: 29272.1230 - val_loss: 45291.1719 - val_root_mean_squared_error: 57655.0391\n",
      "Epoch 87/100\n",
      "\u001b[1m25/25\u001b[0m \u001b[32m━━━━━━━━━━━━━━━━━━━━\u001b[0m\u001b[37m\u001b[0m \u001b[1m0s\u001b[0m 1ms/step - loss: 23210.2188 - root_mean_squared_error: 31119.0332 - val_loss: 47917.4297 - val_root_mean_squared_error: 60182.9922\n",
      "Epoch 88/100\n",
      "\u001b[1m25/25\u001b[0m \u001b[32m━━━━━━━━━━━━━━━━━━━━\u001b[0m\u001b[37m\u001b[0m \u001b[1m0s\u001b[0m 1ms/step - loss: 22259.5332 - root_mean_squared_error: 29950.8730 - val_loss: 46074.1758 - val_root_mean_squared_error: 57887.9492\n",
      "Epoch 89/100\n",
      "\u001b[1m25/25\u001b[0m \u001b[32m━━━━━━━━━━━━━━━━━━━━\u001b[0m\u001b[37m\u001b[0m \u001b[1m0s\u001b[0m 1ms/step - loss: 21933.2090 - root_mean_squared_error: 29692.9590 - val_loss: 46157.5781 - val_root_mean_squared_error: 58914.8281\n",
      "Epoch 90/100\n",
      "\u001b[1m25/25\u001b[0m \u001b[32m━━━━━━━━━━━━━━━━━━━━\u001b[0m\u001b[37m\u001b[0m \u001b[1m0s\u001b[0m 1ms/step - loss: 22742.1250 - root_mean_squared_error: 31204.1934 - val_loss: 47248.5664 - val_root_mean_squared_error: 58932.6055\n",
      "Epoch 91/100\n",
      "\u001b[1m25/25\u001b[0m \u001b[32m━━━━━━━━━━━━━━━━━━━━\u001b[0m\u001b[37m\u001b[0m \u001b[1m0s\u001b[0m 1ms/step - loss: 23171.0840 - root_mean_squared_error: 30764.8906 - val_loss: 48897.8359 - val_root_mean_squared_error: 63535.3320\n",
      "Epoch 92/100\n",
      "\u001b[1m25/25\u001b[0m \u001b[32m━━━━━━━━━━━━━━━━━━━━\u001b[0m\u001b[37m\u001b[0m \u001b[1m0s\u001b[0m 1ms/step - loss: 29326.1895 - root_mean_squared_error: 38818.3008 - val_loss: 45499.6602 - val_root_mean_squared_error: 58387.9492\n",
      "Epoch 93/100\n",
      "\u001b[1m25/25\u001b[0m \u001b[32m━━━━━━━━━━━━━━━━━━━━\u001b[0m\u001b[37m\u001b[0m \u001b[1m0s\u001b[0m 1ms/step - loss: 21560.6777 - root_mean_squared_error: 28672.9180 - val_loss: 46681.0938 - val_root_mean_squared_error: 59291.2812\n",
      "Epoch 94/100\n",
      "\u001b[1m25/25\u001b[0m \u001b[32m━━━━━━━━━━━━━━━━━━━━\u001b[0m\u001b[37m\u001b[0m \u001b[1m0s\u001b[0m 1ms/step - loss: 20472.7988 - root_mean_squared_error: 27998.9941 - val_loss: 51463.8242 - val_root_mean_squared_error: 64782.3633\n",
      "Epoch 95/100\n",
      "\u001b[1m25/25\u001b[0m \u001b[32m━━━━━━━━━━━━━━━━━━━━\u001b[0m\u001b[37m\u001b[0m \u001b[1m0s\u001b[0m 1ms/step - loss: 24039.0664 - root_mean_squared_error: 32645.2051 - val_loss: 47889.3086 - val_root_mean_squared_error: 61318.9844\n",
      "Epoch 96/100\n",
      "\u001b[1m25/25\u001b[0m \u001b[32m━━━━━━━━━━━━━━━━━━━━\u001b[0m\u001b[37m\u001b[0m \u001b[1m0s\u001b[0m 1ms/step - loss: 21434.6348 - root_mean_squared_error: 28898.4043 - val_loss: 54146.4883 - val_root_mean_squared_error: 68832.7344\n",
      "Epoch 97/100\n",
      "\u001b[1m25/25\u001b[0m \u001b[32m━━━━━━━━━━━━━━━━━━━━\u001b[0m\u001b[37m\u001b[0m \u001b[1m0s\u001b[0m 1ms/step - loss: 26204.6582 - root_mean_squared_error: 34243.2969 - val_loss: 52639.8867 - val_root_mean_squared_error: 68356.6875\n",
      "Epoch 98/100\n",
      "\u001b[1m25/25\u001b[0m \u001b[32m━━━━━━━━━━━━━━━━━━━━\u001b[0m\u001b[37m\u001b[0m \u001b[1m0s\u001b[0m 1ms/step - loss: 23534.6270 - root_mean_squared_error: 31821.4766 - val_loss: 74747.0859 - val_root_mean_squared_error: 89777.5859\n",
      "Epoch 99/100\n",
      "\u001b[1m25/25\u001b[0m \u001b[32m━━━━━━━━━━━━━━━━━━━━\u001b[0m\u001b[37m\u001b[0m \u001b[1m0s\u001b[0m 1ms/step - loss: 33950.2734 - root_mean_squared_error: 42475.1836 - val_loss: 64084.6992 - val_root_mean_squared_error: 78892.8672\n",
      "Epoch 100/100\n",
      "\u001b[1m25/25\u001b[0m \u001b[32m━━━━━━━━━━━━━━━━━━━━\u001b[0m\u001b[37m\u001b[0m \u001b[1m0s\u001b[0m 1ms/step - loss: 32519.9629 - root_mean_squared_error: 40713.7188 - val_loss: 46209.0742 - val_root_mean_squared_error: 58767.9336\n"
     ]
    }
   ],
   "source": [
    "history = model.fit(train_dataset, validation_data=val_dataset, epochs=100, verbose=1)"
   ]
  },
  {
   "cell_type": "code",
   "execution_count": 77,
   "metadata": {},
   "outputs": [
    {
     "data": {
      "image/png": "[encoded data removed]",
      "text/plain": [
       "<Figure size 432x288 with 1 Axes>"
      ]
     },
     "metadata": {
      "needs_background": "light"
     },
     "output_type": "display_data"
    }
   ],
   "source": [
    "plt.plot(history.history['root_mean_squared_error'])\n",
    "plt.plot(history.history['val_loss'])\n",
    "plt.title('model loss')\n",
    "plt.ylabel('loss')\n",
    "plt.xlabel('epoch')\n",
    "plt.legend(['train'], loc='upper left')\n",
    "plt.show()"
   ]
  },
  {
   "cell_type": "code",
   "execution_count": 53,
   "metadata": {},
   "outputs": [
    {
     "name": "stdout",
     "output_type": "stream",
     "text": [
      "\u001b[1m4/4\u001b[0m \u001b[32m━━━━━━━━━━━━━━━━━━━━\u001b[0m\u001b[37m\u001b[0m \u001b[1m0s\u001b[0m 1ms/step - loss: 45911.7617 - root_mean_squared_error: 54898.3477 \n"
     ]
    },
    {
     "data": {
      "text/plain": [
       "[46349.44140625, 54934.93359375]"
      ]
     },
     "execution_count": 53,
     "metadata": {},
     "output_type": "execute_result"
    }
   ],
   "source": [
    "model.evaluate(X_test, Y_test)"
   ]
  },
  {
   "cell_type": "code",
   "execution_count": 55,
   "metadata": {},
   "outputs": [
    {
     "name": "stdout",
     "output_type": "stream",
     "text": [
      "\u001b[1m4/4\u001b[0m \u001b[32m━━━━━━━━━━━━━━━━━━━━\u001b[0m\u001b[37m\u001b[0m \u001b[1m0s\u001b[0m 1ms/step \n"
     ]
    },
    {
     "data": {
      "image/png": "[encoded data removed]",
      "text/plain": [
       "<Figure size 2880x1440 with 1 Axes>"
      ]
     },
     "metadata": {
      "needs_background": "light"
     },
     "output_type": "display_data"
    }
   ],
   "source": [
    "y_true = list(Y_test[:,0].numpy())\n",
    "y_pred = list(model.predict(X_test)[:,0])\n",
    "ind = np.arange(100)\n",
    "plt.figure(figsize=(40,20))\n",
    "\n",
    "width = 0.1\n",
    "\n",
    "plt.bar(ind, y_pred, width, label='Predicted Car Price')\n",
    "plt.bar(ind + width, y_true, width, label='Actual Car Price')\n",
    "\n",
    "plt.xlabel('Actual vs Predicted Prices')\n",
    "plt.ylabel('Car Price Prices')\n",
    "\n",
    "plt.show()"
   ]
  },
  {
   "cell_type": "code",
   "execution_count": null,
   "metadata": {},
   "outputs": [],
   "source": []
  }
 ],
 "metadata": {
  "kernelspec": {
   "display_name": "base",
   "language": "python",
   "name": "python3"
  },
  "language_info": {
   "codemirror_mode": {
    "name": "ipython",
    "version": 3
   },
   "file_extension": ".py",
   "mimetype": "text/x-python",
   "name": "python",
   "nbconvert_exporter": "python",
   "pygments_lexer": "ipython3",
   "version": "3.9.7"
  }
 },
 "nbformat": 4,
 "nbformat_minor": 2
}
